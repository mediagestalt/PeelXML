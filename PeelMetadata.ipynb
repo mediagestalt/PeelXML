{
 "cells": [
  {
   "cell_type": "code",
   "execution_count": 1,
   "metadata": {
    "collapsed": false
   },
   "outputs": [],
   "source": [
    "import csv\n",
    "import re\n",
    "import os\n",
    "import sys\n",
    "import lxml\n",
    "from lxml import etree\n",
    "from lxml import objectify\n",
    "from xml.etree import ElementTree\n",
    "from xml.etree.ElementTree import iterparse\n",
    "from io import StringIO\n",
    "\n",
    "ns = {'v3':'http://www.loc.gov/mods/v3'}\n",
    "path = \"/Users/Sandy/Documents/Work/DI/Peel/postcards\"\n",
    "fileobject = 'postcards/PC000001.xml'\n",
    "fileobject2 = 'postcards/PC000035.xml'"
   ]
  },
  {
   "cell_type": "code",
   "execution_count": null,
   "metadata": {
    "collapsed": false
   },
   "outputs": [],
   "source": [
    "tree1 = etree.parse(fileobject)\n",
    "root1 = tree1.getroot()\n",
    "print(root1)\n",
    "print(len(root1))\n",
    "for child in root1:\n",
    "    print(child)"
   ]
  },
  {
   "cell_type": "code",
   "execution_count": null,
   "metadata": {
    "collapsed": false
   },
   "outputs": [],
   "source": [
    "all_links = tree1.findall('{http://www.loc.gov/mods/v3}note')\n",
    "all_links[0].text"
   ]
  },
  {
   "cell_type": "markdown",
   "metadata": {},
   "source": [
    "-----"
   ]
  },
  {
   "cell_type": "code",
   "execution_count": 44,
   "metadata": {
    "collapsed": true
   },
   "outputs": [],
   "source": [
    "tree2 = etree.parse(fileobject2)"
   ]
  },
  {
   "cell_type": "code",
   "execution_count": 94,
   "metadata": {
    "collapsed": false
   },
   "outputs": [
    {
     "data": {
      "text/plain": [
       "['Standard Photo Co']"
      ]
     },
     "execution_count": 94,
     "metadata": {},
     "output_type": "execute_result"
    }
   ],
   "source": [
    "tree2.xpath('(//v3:name[@type=\"corporate\"]/*/text())[1]', namespaces=ns)"
   ]
  },
  {
   "cell_type": "markdown",
   "metadata": {},
   "source": [
    "-----"
   ]
  },
  {
   "cell_type": "code",
   "execution_count": null,
   "metadata": {
    "collapsed": false
   },
   "outputs": [],
   "source": [
    "#this works\n",
    "\n",
    "for e in root.xpath('//v3:mods', namespaces=ns):\n",
    "    print(e.xpath('//v3:title/text()',namespaces=ns)[0])\n",
    "    print(e.xpath('//v3:title/text()',namespaces=ns)[1]) \n",
    "    print(e.xpath('//v3:namePart/text()', namespaces=ns)[0])\n",
    "    print(e.xpath('//v3:namePart/text()', namespaces=ns)[1])\n",
    "    print(e.xpath('//v3:namePart/text()', namespaces=ns)[2])"
   ]
  },
  {
   "cell_type": "code",
   "execution_count": null,
   "metadata": {
    "collapsed": false
   },
   "outputs": [],
   "source": [
    "#this works\n",
    "\n",
    "with open('output1.csv', 'w') as csvfile:\n",
    "    fieldnames = ['id', 'city']\n",
    "    writer = csv.DictWriter(csvfile,fieldnames=fieldnames)\n",
    "    writer.writeheader()\n",
    "    for e in root.xpath('//v3:mods', namespaces=ns):\n",
    "        ident = e.xpath('//v3:recordIdentifier/text()',namespaces=ns)[0] \n",
    "        city = e.xpath('//v3:city/text()', namespaces=ns)[0]\n",
    "        writer.writerow({'id': ident, 'city': city})"
   ]
  },
  {
   "cell_type": "markdown",
   "metadata": {},
   "source": [
    "------"
   ]
  },
  {
   "cell_type": "code",
   "execution_count": null,
   "metadata": {
    "collapsed": false
   },
   "outputs": [],
   "source": [
    "#this works\n",
    "with open('postcards/PC000001.xml', 'rt') as f:\n",
    "    tree = ElementTree.parse(f)\n",
    "print(tree)"
   ]
  },
  {
   "cell_type": "code",
   "execution_count": null,
   "metadata": {
    "collapsed": false
   },
   "outputs": [],
   "source": [
    "#this works\n",
    "for node in tree.iter():\n",
    "    print(node.tag, node.attrib, node.text)"
   ]
  },
  {
   "cell_type": "markdown",
   "metadata": {},
   "source": [
    "------"
   ]
  },
  {
   "cell_type": "markdown",
   "metadata": {},
   "source": [
    "-----"
   ]
  },
  {
   "cell_type": "markdown",
   "metadata": {},
   "source": [
    "------"
   ]
  },
  {
   "cell_type": "code",
   "execution_count": 2,
   "metadata": {
    "collapsed": false
   },
   "outputs": [],
   "source": [
    "#this works\n",
    "\n",
    "dirs = os.listdir(path)\n",
    "parsed = []\n",
    "for filename in dirs:\n",
    "    page = os.path.join(path, filename)\n",
    "    if os.path.isfile(page):\n",
    "        parsed.append(etree.parse(page))"
   ]
  },
  {
   "cell_type": "code",
   "execution_count": 3,
   "metadata": {
    "collapsed": false
   },
   "outputs": [
    {
     "name": "stdout",
     "output_type": "stream",
     "text": [
      "13472\n"
     ]
    }
   ],
   "source": [
    "print(len(parsed))"
   ]
  },
  {
   "cell_type": "code",
   "execution_count": 64,
   "metadata": {
    "collapsed": false
   },
   "outputs": [],
   "source": [
    "#this works\n",
    "\n",
    "with open('output.csv', 'w') as csvfile:\n",
    "    fieldnames = ['id', 'date', 'city', 'province','country', 'title','url', 'subject1']\n",
    "    writer = csv.DictWriter(csvfile,fieldnames=fieldnames)\n",
    "    writer.writeheader()\n",
    "    for card in parsed:\n",
    "        for e in card.xpath('//v3:mods', namespaces=ns):\n",
    "            ident = e.xpath('//v3:recordIdentifier/text()',namespaces=ns) \n",
    "            date = e.xpath('//v3:dateIssued/text()', namespaces=ns)\n",
    "            city = e.xpath('//v3:city/text()', namespaces=ns)\n",
    "            prov = e.xpath('//v3:province/text()', namespaces=ns)\n",
    "            country = e.xpath('//v3:country/text()', namespaces=ns)\n",
    "            title = e.xpath('//v3:title/text()', namespaces=ns)\n",
    "            url = e.xpath('//v3:url[@usage=\"primary display\"]/text()', namespaces=ns)\n",
    "            subject1 = e.xpath('//v3:topic/text()', namespaces=ns)\n",
    "            writer.writerow({'id': ident, 'date':date, 'city': city, 'province':prov, 'country':country, 'title':title, 'url':url, 'subject1':subject1})"
   ]
  },
  {
   "cell_type": "code",
   "execution_count": 104,
   "metadata": {
    "collapsed": false
   },
   "outputs": [],
   "source": [
    "#this works\n",
    "\n",
    "with open('outputRole.csv', 'w') as csvfile:\n",
    "    fieldnames = ['id', 'nameCorporate','namePersonal', 'role']\n",
    "    writer = csv.DictWriter(csvfile,fieldnames=fieldnames)\n",
    "    writer.writeheader()\n",
    "    for card in parsed:\n",
    "        for e in card.xpath('//v3:mods', namespaces=ns):\n",
    "            ident = e.xpath('//v3:recordIdentifier/text()',namespaces=ns) \n",
    "            nameCorporate = e.xpath('(//v3:name[@type=\"corporate\"]/*/text())[1]', namespaces=ns)\n",
    "            namePersonal = e.xpath('(//v3:name[@type=\"personal\"]/*/text())[1]', namespaces=ns)\n",
    "            role = e.xpath('(//v3:roleTerm/text())[1]', namespaces=ns)\n",
    "            writer.writerow({'id': ident, 'nameCorporate':nameCorporate, 'namePersonal':namePersonal, 'role':role})"
   ]
  }
 ],
 "metadata": {
  "kernelspec": {
   "display_name": "Python 3",
   "language": "python",
   "name": "python3"
  },
  "language_info": {
   "codemirror_mode": {
    "name": "ipython",
    "version": 3
   },
   "file_extension": ".py",
   "mimetype": "text/x-python",
   "name": "python",
   "nbconvert_exporter": "python",
   "pygments_lexer": "ipython3",
   "version": "3.5.0"
  }
 },
 "nbformat": 4,
 "nbformat_minor": 0
}
